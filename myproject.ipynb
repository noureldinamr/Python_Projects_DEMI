{
 "cells": [
  {
   "cell_type": "markdown",
   "metadata": {},
   "source": [
    "# Team Random Selection Code :)\n"
   ]
  },
  {
   "cell_type": "code",
   "execution_count": 7,
   "metadata": {},
   "outputs": [],
   "source": [
    "import random\n",
    "\n",
    "# Define the four test lists\n",
    "level1_list = [1, 2, 3, 4]\n",
    "level2_list = ['a', 'b', 'c','d']\n",
    "level3_list = [99, 88, 77,66]\n",
    "level4_list = [\"1$\",\"2&\",\"3%\",\"4©\"]"
   ]
  },
  {
   "cell_type": "markdown",
   "metadata": {},
   "source": [
    "Think about a code that help us to have random new mixed lists, each list should have one element from each level lists.\n",
    "\n",
    "Output may be like that following:\n",
    "```python\n",
    "team1 = [1, 'c', 88, '2&']\n",
    "team2 = [4, 'a', 99, '3%']\n",
    "team3 = [2, 'b', 77, '4©']\n",
    "team4 = [3, 'd', 66, '1$']\n",
    "```\n",
    "\n"
   ]
  },
  {
   "cell_type": "code",
   "execution_count": 20,
   "metadata": {},
   "outputs": [
    {
     "name": "stdout",
     "output_type": "stream",
     "text": [
      "Spiderman\n"
     ]
    }
   ],
   "source": [
    "# your code here\n",
    "#Four Random Lists\n",
    "list1 = ['Spiderman','Batman','Catwoman','Superman']\n",
    "list2 = ['Egypt','Brazil','France','Thailand']\n",
    "list3 = [10,20,30,40]\n",
    "list4 = ['a','b','c','d']\n",
    "\n",
    "#for item in list1[3]:\n",
    "print(random.choice(list1))"
   ]
  },
  {
   "cell_type": "code",
   "execution_count": 28,
   "metadata": {},
   "outputs": [
    {
     "name": "stdout",
     "output_type": "stream",
     "text": [
      "['Superman', 'Brazil']\n"
     ]
    }
   ],
   "source": [
    "new_list1 = []\n",
    "random_item = random.choice(list1)\n",
    "random_item2 = random.choice(list2)\n",
    "new_list1.append(random_item)\n",
    "new_list1.append(random_item2)\n",
    "print(new_list1)"
   ]
  },
  {
   "cell_type": "code",
   "execution_count": 54,
   "metadata": {},
   "outputs": [
    {
     "name": "stdout",
     "output_type": "stream",
     "text": [
      "New List 1: ['Catwoman', 'Thailand', 30, 'b']\n",
      "New List 2: ['Superman', 'Egypt', 10, 'c']\n",
      "New List 3: ['Spiderman', 'Brazil', 40, 'd']\n",
      "New List 4: ['Spiderman', 'Thailand', 40, 'a']\n"
     ]
    }
   ],
   "source": [
    "import random\n",
    "\n",
    "# Define the original lists\n",
    "list1 = ['Spiderman', 'Batman', 'Catwoman', 'Superman']\n",
    "list2 = ['Egypt', 'Brazil', 'France', 'Thailand']\n",
    "list3 = [10, 20, 30, 40]\n",
    "list4 = ['a', 'b', 'c', 'd']\n",
    "\n",
    "# Create an empty list to store the new lists\n",
    "new_lists = []\n",
    "\n",
    "# create 4 new lists\n",
    "for _ in range(4):\n",
    "    random_item1 = random.choice(list1)\n",
    "    random_item2 = random.choice(list2)\n",
    "    random_item3 = random.choice(list3)\n",
    "    random_item4 = random.choice(list4)\n",
    "    \n",
    "    new_list = [random_item1, random_item2, random_item3, random_item4]\n",
    "    new_lists.append(new_list)\n",
    "\n",
    "# Print the new lists\n",
    "for i, new_list in enumerate(new_lists):\n",
    "    print(f\"New List {i+1}: {new_list}\")\n",
    "  "
   ]
  },
  {
   "cell_type": "code",
   "execution_count": 40,
   "metadata": {},
   "outputs": [
    {
     "name": "stdout",
     "output_type": "stream",
     "text": [
      "[1, 2, 3, 4, 5]\n",
      "[1, 2, 3, 4, 5]\n",
      "[1, 2, 3, 4, 5]\n",
      "[1, 2, 3, 4, 5]\n",
      "[1, 2, 3, 4, 5]\n"
     ]
    }
   ],
   "source": [
    "numbers = [1, 2, 3, 4, 5] \n",
    " \n",
    "for _ in numbers: \n",
    "    print(numbers) "
   ]
  },
  {
   "cell_type": "code",
   "execution_count": null,
   "metadata": {},
   "outputs": [],
   "source": []
  }
 ],
 "metadata": {
  "kernelspec": {
   "display_name": "pubmed",
   "language": "python",
   "name": "python3"
  },
  "language_info": {
   "codemirror_mode": {
    "name": "ipython",
    "version": 3
   },
   "file_extension": ".py",
   "mimetype": "text/x-python",
   "name": "python",
   "nbconvert_exporter": "python",
   "pygments_lexer": "ipython3",
   "version": "3.11.9"
  }
 },
 "nbformat": 4,
 "nbformat_minor": 2
}
